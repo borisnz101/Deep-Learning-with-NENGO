{
 "cells": [
  {
   "cell_type": "markdown",
   "metadata": {},
   "source": [
    "# Building a Neural Network with NENGO\n",
    "\n",
    "#### Boris Nzaramba & Ali Haidar"
   ]
  },
  {
   "cell_type": "markdown",
   "metadata": {},
   "source": [
    "The objective of this notebook is to see how we can build a neural network model using NENGO neural simulator, and train it to compute an arbitrary function:\n",
    "#### f(x,y,z)=(2x+1)/y^2+(cos(z))^2\n",
    "\n",
    "The NENGO API is object based, meaning that it defines six core obects or components that are connectable to describe a neural network model. This makes it easy to document, test, and modify the model, as well as running simulations on other simulators than the NENGO incorporated one. It allows to make very large and complex models. Furthermore, this approach comes with a graphical representation of your model, as NENGO also provides a GUI.\n",
    "\n",
    "We will be using the six core objects to build our model:\n",
    "###### A \"Node\" represents an input or output\n",
    "###### An \"Ensemble\" contains a group of neurons that encodes a time-varying vector of real numbers\n",
    "###### A \"Connection\" describes how nodes (inputs) and ensembles (groups of neurons) are connected\n",
    "###### A \"Probe\" gathers data during a simulation for analysis\n",
    "###### A \"Network\" encapsulates a functionally related group of interconnected nodes and ensembles\n",
    "###### A \"Model\" encapsulates a NENGO model\n"
   ]
  },
  {
   "cell_type": "code",
   "execution_count": null,
   "metadata": {},
   "outputs": [],
   "source": [
    "\n"
   ]
  }
 ],
 "metadata": {
  "kernelspec": {
   "display_name": "Python 3",
   "language": "python",
   "name": "python3"
  },
  "language_info": {
   "codemirror_mode": {
    "name": "ipython",
    "version": 3
   },
   "file_extension": ".py",
   "mimetype": "text/x-python",
   "name": "python",
   "nbconvert_exporter": "python",
   "pygments_lexer": "ipython3",
   "version": "3.7.0"
  }
 },
 "nbformat": 4,
 "nbformat_minor": 2
}
